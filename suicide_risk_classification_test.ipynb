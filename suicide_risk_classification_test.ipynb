{
 "cells": [
  {
   "cell_type": "code",
   "execution_count": 2,
   "metadata": {},
   "outputs": [],
   "source": [
    "import pandas as pd\n",
    "import pickle\n",
    "import numpy as np\n",
    "from konlpy.tag import Okt \n",
    "from sklearn.feature_extraction.text import TfidfVectorizer\n",
    "\n",
    "\n",
    "t = Okt()\n",
    "\n",
    "raw_train_data = pd.read_csv('/home/ksr/mental-health-ai-server/utils/training_setences_tmp.csv', encoding='utf-8')\n"
   ]
  },
  {
   "cell_type": "code",
   "execution_count": 3,
   "metadata": {},
   "outputs": [
    {
     "name": "stderr",
     "output_type": "stream",
     "text": [
      "/tmp/ipykernel_321539/146161021.py:3: FutureWarning: The default value of regex will change from True to False in a future version.\n",
      "  df['sentences'] = df['sentences'].str.replace('^ +', \"\") # white space 데이터를 empty value로 변경\n"
     ]
    }
   ],
   "source": [
    "\n",
    "def cleaning_data(df):\n",
    "    # 영문자 포함여부 확인\n",
    "    df['sentences'] = df['sentences'].str.replace('^ +', \"\") # white space 데이터를 empty value로 변경\n",
    "    df['sentences'].replace('', np.nan, inplace=True)\n",
    "    # print(df.isnull().sum())\n",
    "\n",
    "    # score값 변경 (string으로 변경)\n",
    "    # mask = ['A_da', 'B_su', 'C_co']\n",
    "    # df[mask] = df[mask].astype(str)\n",
    "    return df\n",
    "\n",
    "raw_train_data = cleaning_data(raw_train_data)\n"
   ]
  },
  {
   "cell_type": "code",
   "execution_count": 4,
   "metadata": {},
   "outputs": [],
   "source": [
    "def twit_tokenizer(text):\n",
    "  target_tags = ['Noun', 'Verb', 'Adjective'] \n",
    "  result = []\n",
    "  for word, tag in t.pos(text,   \n",
    "          norm=True, stem = True\n",
    "          ) :\n",
    "    if tag in target_tags:\n",
    "      result.append(word)\n",
    "  return result\n"
   ]
  },
  {
   "cell_type": "code",
   "execution_count": 5,
   "metadata": {},
   "outputs": [
    {
     "name": "stderr",
     "output_type": "stream",
     "text": [
      "/home/ksr/mhproject/.venv/lib/python3.10/site-packages/sklearn/feature_extraction/text.py:524: UserWarning: The parameter 'token_pattern' will not be used since 'tokenizer' is not None'\n",
      "  warnings.warn(\n"
     ]
    }
   ],
   "source": [
    "X = np.array(raw_train_data['sentences']) # 학습 데이터에서 문장\n",
    "\n",
    "vect_tmp = TfidfVectorizer(tokenizer = twit_tokenizer)\n",
    "vec_obj_tmp = vect_tmp.fit(X)\n",
    "max_ft = vec_obj_tmp.vocabulary_.__len__() - 26  # 654\n",
    "\n",
    "vectorizer = TfidfVectorizer(tokenizer = twit_tokenizer, \n",
    "                        max_features = max_ft,    \n",
    "                        ngram_range = (1,2),\n",
    "                        min_df = 2,\n",
    "                        )\n",
    "\n",
    "vec_obj = vectorizer.fit_transform(X)  # train set 을 변환\n",
    "# print(\"=\"*10, vec_obj.transform(X).shape)\n",
    "# print(\"trainig text의 vocab단어 수:\", vec_obj.vocabulary_.__len__())  # vocab 사이즈 확인\n",
    "# print(\"=\"*10, vec_obj.shape)"
   ]
  },
  {
   "cell_type": "code",
   "execution_count": 11,
   "metadata": {},
   "outputs": [
    {
     "name": "stderr",
     "output_type": "stream",
     "text": [
      "/home/ksr/mhproject/.venv/lib/python3.10/site-packages/sklearn/base.py:329: UserWarning: Trying to unpickle estimator MultinomialNB from version 1.1.2 when using version 1.1.3. This might lead to breaking code or invalid results. Use at your own risk. For more info please refer to:\n",
      "https://scikit-learn.org/stable/model_persistence.html#security-maintainability-limitations\n",
      "  warnings.warn(\n"
     ]
    }
   ],
   "source": [
    "## 모델 불러오기\n",
    "model0 = pickle.load(open('/home/ksr/mental-health-ai-server/utils/model/clf_model0.pickle', 'rb'))\n",
    "model1 = pickle.load(open('/home/ksr/mental-health-ai-server/utils/model/clf_model1.pickle', 'rb'))\n",
    "model2 = pickle.load(open('/home/ksr/mental-health-ai-server/utils/model/clf_model2.pickle', 'rb'))\n",
    "model3 = pickle.load(open('/home/ksr/mental-health-ai-server/utils/model/clf_model3.pickle', 'rb'))\n",
    "model4 = pickle.load(open('/home/ksr/mental-health-ai-server/utils/model/clf_model4.pickle', 'rb'))\n",
    "model5 = pickle.load(open('/home/ksr/mental-health-ai-server/utils/model/clf_model5.pickle', 'rb'))\n",
    "\n",
    "# # .reshape(1, -1)\n",
    "# def risk_test(text):\n",
    "#     text_tfidf = vectorizer.transform(np.array([text])) # test set 을 변환\n",
    "#     scoring_result.append(model0.predict(text_tfidf))\n",
    "#     scoring_result.append(model1.predict(text_tfidf))\n",
    "#     scoring_result.append(model2.predict(text_tfidf))\n",
    "#     scoring_result.append(model3.predict(text_tfidf))\n",
    "#     scoring_result.append(model4.predict(text_tfidf))\n",
    "#     scoring_result.append(model5.predict(text_tfidf))\n",
    "#     total_score = 0\n",
    "#     for i in scoring_result: \n",
    "#         total_score += i\n",
    "#     return total_score[0]\n",
    "\n",
    "def risk_test(text):\n",
    "    text_tfidf = vectorizer.transform(np.array([text])) # test set 을 변환\n",
    "    # scoring_result = {}\n",
    "    \n",
    "    \n",
    "    scoring_result[\"자살 계획의 구체성\"] = model0.predict(text_tfidf)\n",
    "    scoring_result[\"자살 시도력\"] = model1.predict(text_tfidf)\n",
    "    scoring_result[\"정신건강의 문제\"] = model2.predict(text_tfidf)\n",
    "    scoring_result[\"술, 약물 복용 상태\"] = model3.predict(text_tfidf)\n",
    "    scoring_result[\"지지체계/고립정도/대인관계\"] = model4.predict(text_tfidf)\n",
    "    scoring_result[\"협조능력\"] = model5.predict(text_tfidf)\n",
    "    \n",
    "    return scoring_result\n"
   ]
  },
  {
   "cell_type": "code",
   "execution_count": 20,
   "metadata": {},
   "outputs": [],
   "source": [
    "\n",
    "def classify_suicide_risks(fulltext: list[str]):\n",
    "    \"\"\"\n",
    "    자살 위험성 구분\n",
    "    \"\"\"\n",
    "    global scoring_result \n",
    "    # scoring_result = []  # 대화 시작!\n",
    "    scoring_result = {}\n",
    "    score = 0\n",
    "    score0 = 0\n",
    "    score1 = 0\n",
    "    score2 = 0\n",
    "    score3 = 0\n",
    "    score4 = 0\n",
    "    score5 = 0\n",
    "    for i in range(len(fulltext)):\n",
    "        text_input = fulltext[i]\n",
    "\n",
    "        # score = risk_test(text_input).item()\n",
    "        score0 += risk_test(text_input)[\"자살 계획의 구체성\"]     # dict 형태\n",
    "        score1 += risk_test(text_input)[\"자살 시도력\"]\n",
    "        score2 += risk_test(text_input)[\"정신건강의 문제\"]\n",
    "        score3 += risk_test(text_input)[\"술, 약물 복용 상태\"]\n",
    "        score4 += risk_test(text_input)[\"지지체계/고립정도/대인관계\"]\n",
    "        score5 += risk_test(text_input)[\"협조능력\"]\n",
    "        \n",
    "    score = score0[0] + score1[0] + score2[0] + score3[0] + score4[0] + score5[0]\n",
    "    print('score0 :', score0)\n",
    "    print('score1 :', score1)\n",
    "    print('score2 :', score2)\n",
    "    print('score3 :', score3)\n",
    "    print('score4 :', score4)\n",
    "    print('score5 :', score5)\n",
    "    \n",
    "    # for n in range(len(scoring_result.keys())):\n",
    "    #     score0 += scoring_result[\"자살 계획의 구체성\"]\n",
    "    #     score1 += scoring_result[\"자살 시도력\"]\n",
    "    #     score2 += scoring_result[\"정신건강의 문제\"]\n",
    "    #     score3 += scoring_result[\"술, 약물 복용 상태\"]\n",
    "    #     score4 += scoring_result[\"지지체계/고립정도/대인관계\"]\n",
    "    #     score5 += scoring_result[\"협조능력\"]\n",
    "\n",
    "    # 점수의 총합\n",
    "    if score > 30:\n",
    "        risk_label = \"고위험\"\n",
    "    elif score > 20:\n",
    "        risk_label = \"중위험\"\n",
    "    elif score > 2:\n",
    "        risk_label = \"저위험\"\n",
    "    else:\n",
    "        risk_label = \"위험하지 않음\"\n",
    "\n",
    "    return {\n",
    "        \"risk_label\": risk_label,\n",
    "        \"score\": score,\n",
    "    }\n"
   ]
  },
  {
   "cell_type": "code",
   "execution_count": 24,
   "metadata": {},
   "outputs": [
    {
     "name": "stdout",
     "output_type": "stream",
     "text": [
      "score0 : [4]\n",
      "score1 : [0]\n",
      "score2 : [1]\n",
      "score3 : [0]\n",
      "score4 : [0]\n",
      "score5 : [0]\n"
     ]
    },
    {
     "data": {
      "text/plain": [
       "{'risk_label': '저위험', 'score': 5}"
      ]
     },
     "execution_count": 24,
     "metadata": {},
     "output_type": "execute_result"
    }
   ],
   "source": [
    "classify_suicide_risks(\"자살하고 싶어요 확 죽어버릴 거라구요 자살 뛰어내릴거야 한강에서 내가 지금 옥상인데 죽을 거라고\")"
   ]
  },
  {
   "cell_type": "code",
   "execution_count": null,
   "metadata": {},
   "outputs": [],
   "source": []
  }
 ],
 "metadata": {
  "kernelspec": {
   "display_name": ".venv",
   "language": "python",
   "name": "python3"
  },
  "language_info": {
   "codemirror_mode": {
    "name": "ipython",
    "version": 3
   },
   "file_extension": ".py",
   "mimetype": "text/x-python",
   "name": "python",
   "nbconvert_exporter": "python",
   "pygments_lexer": "ipython3",
   "version": "3.10.6 (main, Nov 14 2022, 16:10:14) [GCC 11.3.0]"
  },
  "orig_nbformat": 4,
  "vscode": {
   "interpreter": {
    "hash": "329a2512e2fe6180cfdee556e6fa798af6be948fb4e5cba2ee137183931e0758"
   }
  }
 },
 "nbformat": 4,
 "nbformat_minor": 2
}
